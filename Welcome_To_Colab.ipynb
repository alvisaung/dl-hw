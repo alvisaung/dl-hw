{
  "cells": [
    {
      "cell_type": "markdown",
      "metadata": {
        "id": "view-in-github",
        "colab_type": "text"
      },
      "source": [
        "<a href=\"https://colab.research.google.com/github/alvisaung/dl-hw/blob/main/Welcome_To_Colab.ipynb\" target=\"_parent\"><img src=\"https://colab.research.google.com/assets/colab-badge.svg\" alt=\"Open In Colab\"/></a>"
      ]
    },
    {
      "cell_type": "code",
      "execution_count": 13,
      "metadata": {
        "id": "zwFnJsE6vjf8"
      },
      "outputs": [],
      "source": []
    },
    {
      "cell_type": "markdown",
      "metadata": {
        "id": "OwuxHmxllTwN"
      },
      "source": [
        "<div class=\"markdown-google-sans\">\n",
        "\n",
        "## Machine learning\n",
        "</div>\n",
        "\n",
        "With Colab you can import an image dataset, train an image classifier on it, and evaluate the model, all in just [a few lines of code](https://colab.research.google.com/github/tensorflow/docs/blob/master/site/en/tutorials/quickstart/beginner.ipynb)."
      ]
    },
    {
      "cell_type": "markdown",
      "source": [],
      "metadata": {
        "id": "J6kAT_b2C_bF"
      }
    },
    {
      "cell_type": "markdown",
      "metadata": {
        "id": "ufxBm1yRnruN"
      },
      "source": [
        "Colab is used extensively in the machine learning community with applications including:\n",
        "- Getting started with TensorFlow\n",
        "- Developing and training neural networks\n",
        "- Experimenting with TPUs\n",
        "- Disseminating AI research\n",
        "- Creating tutorials\n",
        "\n",
        "To see sample Colab notebooks that demonstrate machine learning applications, see the [machine learning examples](#machine-learning-examples) below."
      ]
    },
    {
      "cell_type": "code",
      "source": [
        "import numpy as np\n",
        "import os\n",
        "import tensorflow as tf\n",
        "from tensorflow.keras import layers, models\n",
        "from google.colab import drive\n",
        "\n",
        "drive.mount('/content/drive')\n",
        "\n",
        "with open('/content/drive/My Drive/fish/shakespeare_train.txt', 'r') as f:\n",
        "    train_text = f.read()\n",
        "\n",
        "with open('/content/drive/My Drive/fish/shakespeare_valid.txt', 'r') as f:\n",
        "    valid_text = f.read()\n",
        "\n",
        "# Create vocabulary and mappings\n",
        "vocab = sorted(set(train_text))\n",
        "vocab_size = len(vocab)\n",
        "vocab_to_int = {c: i for i, c in enumerate(vocab)}\n",
        "int_to_vocab = dict(enumerate(vocab))\n",
        "\n",
        "\n",
        "\n",
        "# Convert text to integers\n",
        "train_data = np.array([vocab_to_int[c] for c in train_text], dtype=np.int32)\n",
        "valid_data = np.array([vocab_to_int[c] for c in valid_text], dtype=np.int32)\n",
        "\n",
        "# temp\n",
        "temp_size = 20000\n",
        "temp_size_v = 1000\n",
        "train_data = train_data[:temp_size]  # Use the first 100,000 characters\n",
        "valid_data = valid_data[:temp_size_v]\n",
        "print(train_data)\n"
      ],
      "metadata": {
        "colab": {
          "base_uri": "https://localhost:8080/"
        },
        "id": "PLgHnpk09R-4",
        "outputId": "0f612025-b6eb-4820-fd21-22d269b22c0e"
      },
      "execution_count": 14,
      "outputs": [
        {
          "output_type": "stream",
          "name": "stdout",
          "text": [
            "Drive already mounted at /content/drive; to attempt to forcibly remount, call drive.mount(\"/content/drive\", force_remount=True).\n",
            "[18 49 58 ... 55  6  1]\n"
          ]
        }
      ]
    },
    {
      "cell_type": "code",
      "source": [
        "\n",
        "def build_rnn_model(vocab_size):\n",
        "    hidden_units = 512  # You can experiment with different sizes\n",
        "    model = models.Sequential([\n",
        "        layers.Embedding(input_dim=vocab_size, output_dim=hidden_units),\n",
        "        layers.SimpleRNN(hidden_units, return_sequences=True),\n",
        "        layers.Dense(vocab_size, activation='softmax')  # Output probabilities over characters\n",
        "    ])\n",
        "    return model\n",
        "\n",
        "model = build_rnn_model(vocab_size)"
      ],
      "metadata": {
        "id": "9iEdgYfTCdUx"
      },
      "execution_count": 15,
      "outputs": []
    },
    {
      "cell_type": "code",
      "source": [
        "import matplotlib.pyplot as plt\n",
        "\n",
        "def plot_loss(history):\n",
        "    plt.plot(history.history['loss'], label='Training BPC')\n",
        "    plt.plot(history.history['val_loss'], label='Validation BPC')\n",
        "    plt.legend()\n",
        "    plt.xlabel('Epoch')\n",
        "    plt.ylabel('Bits Per Character')\n",
        "    plt.title('Learning Curve')\n",
        "    plt.show()"
      ],
      "metadata": {
        "id": "JWo5DMFQCjsm"
      },
      "execution_count": 16,
      "outputs": []
    },
    {
      "cell_type": "code",
      "source": [
        "def bpc_loss(y_true, y_pred):\n",
        "\n",
        "    y_true = tf.cast(y_true, tf.int32)\n",
        "    scce = tf.keras.losses.SparseCategoricalCrossentropy(from_logits=True, reduction='none')\n",
        "    loss = scce(y_true, y_pred)\n",
        "    loss_in_bits = loss / tf.math.log(2.0)\n",
        "    return tf.reduce_mean(loss_in_bits)\n"
      ],
      "metadata": {
        "id": "2AIqHk9lClZk"
      },
      "execution_count": 17,
      "outputs": []
    },
    {
      "cell_type": "code",
      "source": [
        "def create_tf_dataset(data, seq_length, batch_size):\n",
        "    # Convert data to TensorFlow Dataset\n",
        "    dataset = tf.data.Dataset.from_tensor_slices(data)\n",
        "\n",
        "    # Create sequences\n",
        "    sequences = dataset.window(seq_length + 1, shift=1, drop_remainder=True)\n",
        "    sequences = sequences.flat_map(lambda window: window.batch(seq_length + 1))\n",
        "\n",
        "    # Split sequences into input and target\n",
        "    def split_input_target(seq):\n",
        "        input_seq = seq[:-1]\n",
        "        target_seq = seq[1:]\n",
        "        return input_seq, target_seq\n",
        "\n",
        "    dataset = sequences.map(split_input_target)\n",
        "\n",
        "    # Shuffle, batch, and prefetch\n",
        "    dataset = dataset.shuffle(10000).batch(batch_size, drop_remainder=True).prefetch(tf.data.AUTOTUNE)\n",
        "\n",
        "    return dataset\n",
        "\n",
        "seq_length = 100\n",
        "batch_size = 64\n",
        "\n",
        "train_dataset = create_tf_dataset(train_data, seq_length, batch_size)\n",
        "valid_dataset = create_tf_dataset(valid_data, seq_length, batch_size)\n"
      ],
      "metadata": {
        "id": "tdnYAwahCuKP"
      },
      "execution_count": 18,
      "outputs": []
    },
    {
      "cell_type": "code",
      "source": [
        "batch_size = 64\n",
        "optimizer = tf.keras.optimizers.Adam()\n",
        "\n",
        "# Define a custom callback to reset hidden states at the start of each epoch\n",
        "checkpoint_callback = tf.keras.callbacks.ModelCheckpoint(\n",
        "    filepath='model_epoch_{epoch}.weights.h5',\n",
        "    save_weights_only=True,\n",
        "    save_freq='epoch'\n",
        ")\n",
        "\n",
        "def generate_text(model, start_string, num_generate=100):\n",
        "    # Convert start string to integer indices\n",
        "    input_indices = [vocab_to_int[c] for c in start_string]\n",
        "    input_indices = tf.expand_dims(input_indices, 0)  # Add batch dimension\n",
        "\n",
        "    text_generated = []\n",
        "    model.reset_states()\n",
        "\n",
        "    for _ in range(num_generate):\n",
        "        predictions = model(input_indices)\n",
        "        predictions = tf.squeeze(predictions, 0)  # Remove batch dimension\n",
        "\n",
        "        # Use the last prediction\n",
        "        predictions = predictions[-1]\n",
        "\n",
        "        # Sample from the distribution\n",
        "        predicted_id = tf.random.categorical(predictions[None, :], num_samples=1)[0, 0].numpy()\n",
        "\n",
        "        # Add predicted character\n",
        "        text_generated.append(int_to_vocab[predicted_id])\n",
        "\n",
        "        # Update input\n",
        "        input_indices = tf.expand_dims([predicted_id], 0)\n",
        "\n",
        "    return start_string + ''.join(text_generated)\n",
        "\n",
        "\n",
        "def experiment(epochs):\n",
        "    hidden_sizes = [128, 256, 512]\n",
        "    sequence_lengths = [50, 100, 200]\n",
        "\n",
        "    for hidden_units in hidden_sizes:\n",
        "        for seq_length in sequence_lengths:\n",
        "            # Build and compile the model\n",
        "            model = build_rnn_model(vocab_size, hidden_units)\n",
        "            model.compile(optimizer=optimizer, loss=bpc_loss)\n",
        "\n",
        "\n",
        "            # Train the model\n",
        "            history = model.fit(\n",
        "                train_dataset,validation_data=valid_dataset, epochs=epochs,callbacks=[checkpoint_callback]\n",
        "            )\n",
        "\n",
        "            # Record the final training loss\n",
        "            final_loss = history.history['loss'][-1]\n",
        "            print(f'Hidden Units: {hidden_units}, Seq Length: {seq_length}, Final Loss: {final_loss}')\n"
      ],
      "metadata": {
        "id": "9-otDrCeCxw-"
      },
      "execution_count": 19,
      "outputs": []
    },
    {
      "cell_type": "code",
      "source": [
        "model.compile(optimizer=optimizer, loss=bpc_loss)\n",
        "epochs = 10\n",
        "\n",
        "# Fit the model\n",
        "history = model.fit(\n",
        "    train_dataset,\n",
        "    validation_data=valid_dataset,\n",
        "    epochs=epochs,\n",
        "    callbacks=[checkpoint_callback]\n",
        ")\n",
        "\n"
      ],
      "metadata": {
        "id": "LUSw7GCCCzMp",
        "outputId": "9bb509c9-066f-4599-cf20-1ad2f38ea1d2",
        "colab": {
          "base_uri": "https://localhost:8080/"
        }
      },
      "execution_count": null,
      "outputs": [
        {
          "output_type": "stream",
          "name": "stdout",
          "text": [
            "Epoch 1/10\n"
          ]
        },
        {
          "output_type": "stream",
          "name": "stderr",
          "text": [
            "/usr/local/lib/python3.10/dist-packages/keras/src/backend/tensorflow/nn.py:609: UserWarning: \"`sparse_categorical_crossentropy` received `from_logits=True`, but the `output` argument was produced by a Softmax activation and thus does not represent logits. Was this intended?\n",
            "  output, from_logits = _get_logits(\n"
          ]
        },
        {
          "output_type": "stream",
          "name": "stdout",
          "text": [
            "    310/Unknown \u001b[1m207s\u001b[0m 650ms/step - loss: 3.3321"
          ]
        },
        {
          "output_type": "stream",
          "name": "stderr",
          "text": [
            "/usr/lib/python3.10/contextlib.py:153: UserWarning: Your input ran out of data; interrupting training. Make sure that your dataset or generator can generate at least `steps_per_epoch * epochs` batches. You may need to use the `.repeat()` function when building your dataset.\n",
            "  self.gen.throw(typ, value, traceback)\n"
          ]
        },
        {
          "output_type": "stream",
          "name": "stdout",
          "text": [
            "\b\b\b\b\b\b\b\b\b\b\b\b\b\b\b\b\b\b\b\b\b\b\b\b\b\b\b\b\b\b\b\b\b\b\b\b\b\b\b\b\b\b\b\b\b\b\r\u001b[1m310/310\u001b[0m \u001b[32m━━━━━━━━━━━━━━━━━━━━\u001b[0m\u001b[37m\u001b[0m \u001b[1m210s\u001b[0m 659ms/step - loss: 3.3295 - val_loss: 3.8890\n",
            "Epoch 2/10\n",
            "\u001b[1m310/310\u001b[0m \u001b[32m━━━━━━━━━━━━━━━━━━━━\u001b[0m\u001b[37m\u001b[0m \u001b[1m261s\u001b[0m 654ms/step - loss: 0.9267 - val_loss: 5.2093\n",
            "Epoch 3/10\n",
            "\u001b[1m310/310\u001b[0m \u001b[32m━━━━━━━━━━━━━━━━━━━━\u001b[0m\u001b[37m\u001b[0m \u001b[1m265s\u001b[0m 670ms/step - loss: 0.3075 - val_loss: 5.5042\n",
            "Epoch 4/10\n",
            "\u001b[1m310/310\u001b[0m \u001b[32m━━━━━━━━━━━━━━━━━━━━\u001b[0m\u001b[37m\u001b[0m \u001b[1m265s\u001b[0m 681ms/step - loss: 0.2393 - val_loss: 5.7384\n",
            "Epoch 5/10\n"
          ]
        }
      ]
    }
  ],
  "metadata": {
    "colab": {
      "name": "Welcome To Colab",
      "toc_visible": true,
      "provenance": [],
      "include_colab_link": true
    },
    "kernelspec": {
      "display_name": "Python 3",
      "name": "python3"
    }
  },
  "nbformat": 4,
  "nbformat_minor": 0
}